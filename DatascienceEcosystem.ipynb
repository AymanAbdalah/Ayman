{
  "metadata": {
    "language_info": {
      "codemirror_mode": {
        "name": "python",
        "version": 3
      },
      "file_extension": ".py",
      "mimetype": "text/x-python",
      "name": "python",
      "nbconvert_exporter": "python",
      "pygments_lexer": "ipython3",
      "version": "3.8"
    },
    "kernelspec": {
      "name": "python",
      "display_name": "Python (Pyodide)",
      "language": "python"
    }
  },
  "nbformat_minor": 4,
  "nbformat": 4,
  "cells": [
    {
      "cell_type": "markdown",
      "source": "## Data science Ecosystem",
      "metadata": {}
    },
    {
      "cell_type": "markdown",
      "source": "During this Course, we went through the tools needed in Data Science and took a brief definition on every tool and when we need to use it.",
      "metadata": {}
    },
    {
      "cell_type": "markdown",
      "source": "There are 3 main languages mentioned in the course which are:\n\nPython\n\nR\n\nSQL",
      "metadata": {}
    },
    {
      "cell_type": "markdown",
      "source": "The libraries needed in Data Science are:\n\nNumpy\n\nPandas\n\nMatplotlib\n\nSeaborn\n\nScikit-learn\n\nTensorFlow\n\nPyTorch\n    ",
      "metadata": {}
    },
    {
      "cell_type": "markdown",
      "source": "The tools used in Data Science are:\n\nJupyter Notebook\n\nRstudio\n\nGithub\n\nApache Spartk\n\nTableau",
      "metadata": {}
    },
    {
      "cell_type": "markdown",
      "source": "# Here are some arithmetic Expressions in Python",
      "metadata": {}
    },
    {
      "cell_type": "code",
      "source": "def multiplier(x,y):\n    z = x*y\n    return z\n\n# Example usage\nx = 5\ny = 17\nmultiplier = multiplier(x,y)\nprint(f\"{x} multiplied by {y} is equal to {multiplier}.\")",
      "metadata": {
        "trusted": true
      },
      "execution_count": 6,
      "outputs": [
        {
          "name": "stdout",
          "text": "5 multiplied by 17 is equal to 85.\n",
          "output_type": "stream"
        }
      ]
    },
    {
      "cell_type": "code",
      "source": "def Addition(x,y):\n    z = x+y\n    return z\n\n# Example usage\nx = 5\ny = 17\nAddition = Addition(x,y)\nprint(f\"{x} Added to {y} is equal to {Addition}.\")",
      "metadata": {
        "trusted": true
      },
      "execution_count": 7,
      "outputs": [
        {
          "name": "stdout",
          "text": "5 Added to 17 is equal to 22.\n",
          "output_type": "stream"
        }
      ]
    },
    {
      "cell_type": "code",
      "source": "def convert_minutes_to_hours(minutes):\n    hours = minutes / 60\n    return hours\n\n# Example usage\nminutes = 120\nconverted_hours = convert_minutes_to_hours(minutes)\nprint(f\"{minutes} minutes is equal to {converted_hours} hours.\")",
      "metadata": {
        "trusted": true
      },
      "execution_count": 3,
      "outputs": [
        {
          "name": "stdout",
          "text": "120 minutes is equal to 2.0 hours.\n",
          "output_type": "stream"
        }
      ]
    },
    {
      "cell_type": "markdown",
      "source": "# Assignment Objectives\n.list Data Science languages, tools, and libraries.\n\n.create codes to multiply and add numbers\n\n.convert minutes to hours",
      "metadata": {}
    },
    {
      "cell_type": "markdown",
      "source": " **Ayman Abdallah**",
      "metadata": {}
    },
    {
      "cell_type": "code",
      "source": "",
      "metadata": {},
      "execution_count": null,
      "outputs": []
    },
    {
      "cell_type": "code",
      "source": "",
      "metadata": {},
      "execution_count": null,
      "outputs": []
    },
    {
      "cell_type": "code",
      "source": "",
      "metadata": {},
      "execution_count": null,
      "outputs": []
    },
    {
      "cell_type": "code",
      "source": "",
      "metadata": {},
      "execution_count": null,
      "outputs": []
    },
    {
      "cell_type": "code",
      "source": "",
      "metadata": {},
      "execution_count": null,
      "outputs": []
    },
    {
      "cell_type": "code",
      "source": "",
      "metadata": {},
      "execution_count": null,
      "outputs": []
    },
    {
      "cell_type": "code",
      "source": "",
      "metadata": {},
      "execution_count": null,
      "outputs": []
    },
    {
      "cell_type": "code",
      "source": "",
      "metadata": {},
      "execution_count": null,
      "outputs": []
    },
    {
      "cell_type": "code",
      "source": "",
      "metadata": {},
      "execution_count": null,
      "outputs": []
    },
    {
      "cell_type": "code",
      "source": "",
      "metadata": {},
      "execution_count": null,
      "outputs": []
    },
    {
      "cell_type": "code",
      "source": "",
      "metadata": {},
      "execution_count": null,
      "outputs": []
    },
    {
      "cell_type": "code",
      "source": "",
      "metadata": {},
      "execution_count": null,
      "outputs": []
    },
    {
      "cell_type": "code",
      "source": "",
      "metadata": {},
      "execution_count": null,
      "outputs": []
    },
    {
      "cell_type": "code",
      "source": "",
      "metadata": {},
      "execution_count": null,
      "outputs": []
    },
    {
      "cell_type": "code",
      "source": "",
      "metadata": {},
      "execution_count": null,
      "outputs": []
    },
    {
      "cell_type": "code",
      "source": "",
      "metadata": {},
      "execution_count": null,
      "outputs": []
    },
    {
      "cell_type": "code",
      "source": "",
      "metadata": {},
      "execution_count": null,
      "outputs": []
    },
    {
      "cell_type": "code",
      "source": "",
      "metadata": {},
      "execution_count": null,
      "outputs": []
    },
    {
      "cell_type": "markdown",
      "source": "",
      "metadata": {}
    }
  ]
}